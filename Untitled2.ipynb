{
 "cells": [
  {
   "cell_type": "markdown",
   "id": "surface-acrylic",
   "metadata": {},
   "source": [
    "XGBoost"
   ]
  },
  {
   "cell_type": "code",
   "execution_count": 1,
   "id": "laughing-algorithm",
   "metadata": {},
   "outputs": [],
   "source": [
    "import xgboost as xgb\n",
    "import pandas as pd"
   ]
  },
  {
   "cell_type": "code",
   "execution_count": 2,
   "id": "surgical-attachment",
   "metadata": {},
   "outputs": [],
   "source": [
    "def train_test_x_y(\n",
    "    matrix, test_month, keep_from_month=3, new_target=None\n",
    "):\n",
    "    if new_target is not None:\n",
    "        matrix[\"item_cnt_month\"] = matrix.loc[:, new_target]\n",
    "        matrix = matrix.drop(columns=new_target)\n",
    "\n",
    "    def split_train_test(matrix, test_month=33):\n",
    "        # Split the matrix into train and test sets.\n",
    "        test = matrix.loc[matrix.date_block_num==test_month, :]\n",
    "        train = matrix.loc[matrix.date_block_num < test_month, :]\n",
    "        return train, test\n",
    "\n",
    "    def xysplit(matrix):\n",
    "        # Split a train and test set into into x and y sets, with item_cnt as the target y variable\n",
    "        y = matrix.item_cnt_month\n",
    "        X = matrix.drop(columns=[\"item_cnt_month\"])\n",
    "        return (X, y)\n",
    "\n",
    "    matrix = matrix.drop(\n",
    "        columns=[\n",
    "            \"item_revenue_month\",\n",
    "            \"item_price\",\n",
    "            \"item_cnt_month_original\",\n",
    "            \"item_cnt_month_unclipped\",\n",
    "            \"item_cnt_day_avg\",\n",
    "            \"new_item\",\n",
    "            \"new_shop\",\n",
    "            \"item_age\",\n",
    "            \"shop_age\",\n",
    "            \"digital\",\n",
    "            \"first_item_date\",\n",
    "        ],\n",
    "        errors=\"ignore\",\n",
    "    )\n",
    "\n",
    "    train, test = split_train_test(matrix, test_month)\n",
    "    train = train[train.date_block_num >= keep_from_month]\n",
    "    X_train, y_train = xysplit(train)\n",
    "    X_test, y_test = xysplit(test)\n",
    "    return (X_train, y_train, X_test, y_test)"
   ]
  },
  {
   "cell_type": "code",
   "execution_count": 3,
   "id": "incoming-tonight",
   "metadata": {},
   "outputs": [],
   "source": [
    "matrix = pd.read_pickle('matrixcheckpoint_2.pk1')"
   ]
  },
  {
   "cell_type": "code",
   "execution_count": 4,
   "id": "timely-puppy",
   "metadata": {},
   "outputs": [],
   "source": [
    "matrix = matrix[[\n",
    "'date_block_num',\n",
    " 'shop_id',\n",
    " 'item_id',\n",
    " 'item_cnt_month',\n",
    " 'item_revenue_month',\n",
    " 'month_length',\n",
    " 'shop_open_days',\n",
    " 'item_cnt_day_avg',\n",
    " 'first_item_sale_days',\n",
    " 'first_shop_item_sale_days',\n",
    " 'last_shop_item_sale_days',\n",
    " 'last_item_sale_days',\n",
    " 'month',\n",
    " 'item_age',\n",
    " 'item_age_max_12',\n",
    " 'new_item',\n",
    " 'shop_age',\n",
    " 'new_shop',\n",
    " 'item_cnt_month_unclipped',\n",
    " 'last_item_price',\n",
    " 'last_norm_diff_exp_mean_price',\n",
    " 'last_norm_diff_start_price',\n",
    " 'last_norm_diff_cat_price',\n",
    " 'item_category_id',\n",
    " 'digital',\n",
    " 'supercategory_id',\n",
    " 'platform_id',\n",
    " 'city_code',\n",
    " 'shop_id_item_id_item_cnt_month_mean_rolling_mean_win_12',\n",
    " 'shop_id_item_id_item_cnt_month_median_ewm_hl_1',\n",
    " 'shop_id_item_id_item_cnt_day_avg_median_ewm_hl_1',\n",
    " 'item_id_item_cnt_day_avg_mean_ewm_hl_1',\n",
    " 'item_id_item_revenue_month_sum_rolling_mean_win_12',\n",
    " 'item_id_item_cnt_month_mean_rolling_mean_win_12',\n",
    " 'shop_id_item_id_item_cnt_month_sum_rolling_sum_win_12',\n",
    " 'item_id_item_cnt_month_sum_rolling_sum_win_12',\n",
    " 'new_item_item_category_id_item_cnt_month_mean_rolling_mean_win_12',\n",
    " 'new_item_supercategory_id_item_cnt_month_mean_rolling_mean_win_12',\n",
    " 'new_item_item_category_id_item_cnt_month_mean_ewm_hl_1',\n",
    " 'shop_id_item_category_id_item_cnt_month_mean_rolling_mean_win_12',\n",
    " 'shop_id_item_category_id_item_cnt_month_mean_ewm_hl_1',\n",
    " 'city_code_item_category_id_item_cnt_month_mean_rolling_mean_win_12',\n",
    " 'city_code_item_category_id_item_cnt_month_mean_ewm_hl_1',\n",
    " 'shop_id_item_cnt_month_mean_rolling_mean_win_12',\n",
    " 'shop_id_item_category_id_item_cnt_month_sum_rolling_mean_win_12',\n",
    " 'item_age_shop_id_item_category_id_item_cnt_month_mean_rolling_mean_win_12',\n",
    " 'item_id_last_item_price_mean_ewm_hl_1',\n",
    " 'shop_id_item_id_item_cnt_day_rolling_mean_win_12',\n",
    "    \n",
    " 'item_id_item_cnt_day_allshops_rolling_mean_win_12',\n",
    "\n",
    " 'shop_id_item_id_item_cnt_month_sum_expanding_sum',\n",
    " 'item_id_item_cnt_month_sum_expanding_sum',\n",
    " 'item_id_item_revenue_month_sum_expanding_sum',\n",
    " 'shop_id_item_category_id_item_cnt_month_mean_expanding_mean'\n",
    "]]"
   ]
  },
  {
   "cell_type": "code",
   "execution_count": 8,
   "id": "restricted-joshua",
   "metadata": {},
   "outputs": [],
   "source": [
    "matrix = pd.read_pickle(\"matrixcheckpoint_final.pk1\")"
   ]
  },
  {
   "cell_type": "code",
   "execution_count": 9,
   "id": "muslim-dietary",
   "metadata": {},
   "outputs": [],
   "source": [
    "matrix = matrix.replace([float('inf'), -float('inf')], float('nan'))"
   ]
  },
  {
   "cell_type": "code",
   "execution_count": 10,
   "id": "inner-ordering",
   "metadata": {},
   "outputs": [
    {
     "name": "stdout",
     "output_type": "stream",
     "text": [
      "[0]\tvalidation_0-rmse:0.96636\n",
      "[1]\tvalidation_0-rmse:0.89265\n",
      "[2]\tvalidation_0-rmse:0.84826\n",
      "[3]\tvalidation_0-rmse:0.82824\n",
      "[4]\tvalidation_0-rmse:0.81703\n",
      "[5]\tvalidation_0-rmse:0.80988\n",
      "[6]\tvalidation_0-rmse:0.80584\n",
      "[7]\tvalidation_0-rmse:0.80195\n",
      "[8]\tvalidation_0-rmse:0.80503\n",
      "[9]\tvalidation_0-rmse:0.80425\n",
      "[10]\tvalidation_0-rmse:0.80292\n",
      "[11]\tvalidation_0-rmse:0.80015\n",
      "[12]\tvalidation_0-rmse:0.79812\n",
      "[13]\tvalidation_0-rmse:0.80029\n",
      "[14]\tvalidation_0-rmse:0.80003\n",
      "[15]\tvalidation_0-rmse:0.79924\n",
      "[16]\tvalidation_0-rmse:0.79876\n",
      "[17]\tvalidation_0-rmse:0.79768\n",
      "[18]\tvalidation_0-rmse:0.79605\n",
      "[19]\tvalidation_0-rmse:0.80293\n",
      "[20]\tvalidation_0-rmse:0.80210\n",
      "[21]\tvalidation_0-rmse:0.80267\n",
      "[22]\tvalidation_0-rmse:0.80287\n",
      "[23]\tvalidation_0-rmse:0.80256\n",
      "[24]\tvalidation_0-rmse:0.80172\n",
      "[25]\tvalidation_0-rmse:0.80187\n",
      "[26]\tvalidation_0-rmse:0.80172\n",
      "[27]\tvalidation_0-rmse:0.80172\n"
     ]
    },
    {
     "ename": "KeyboardInterrupt",
     "evalue": "",
     "output_type": "error",
     "traceback": [
      "\u001b[1;31m---------------------------------------------------------------------------\u001b[0m",
      "\u001b[1;31mKeyboardInterrupt\u001b[0m                         Traceback (most recent call last)",
      "\u001b[1;32m<ipython-input-10-fd413a351206>\u001b[0m in \u001b[0;36m<module>\u001b[1;34m\u001b[0m\n\u001b[0;32m      3\u001b[0m )\n\u001b[0;32m      4\u001b[0m \u001b[0mxgbooster\u001b[0m \u001b[1;33m=\u001b[0m \u001b[0mxgb\u001b[0m\u001b[1;33m.\u001b[0m\u001b[0mXGBRegressor\u001b[0m\u001b[1;33m(\u001b[0m\u001b[1;33m)\u001b[0m\u001b[1;33m\u001b[0m\u001b[1;33m\u001b[0m\u001b[0m\n\u001b[1;32m----> 5\u001b[1;33m xgbooster.fit(X_train.values, y_train.values, early_stopping_rounds=10, eval_metric=\"rmse\",\n\u001b[0m\u001b[0;32m      6\u001b[0m         eval_set=[(X_test.values, y_test.values)])\n",
      "\u001b[1;32m~\\anaconda3\\envs\\predsales\\lib\\site-packages\\xgboost\\core.py\u001b[0m in \u001b[0;36minner_f\u001b[1;34m(*args, **kwargs)\u001b[0m\n\u001b[0;32m    420\u001b[0m         \u001b[1;32mfor\u001b[0m \u001b[0mk\u001b[0m\u001b[1;33m,\u001b[0m \u001b[0marg\u001b[0m \u001b[1;32min\u001b[0m \u001b[0mzip\u001b[0m\u001b[1;33m(\u001b[0m\u001b[0msig\u001b[0m\u001b[1;33m.\u001b[0m\u001b[0mparameters\u001b[0m\u001b[1;33m,\u001b[0m \u001b[0margs\u001b[0m\u001b[1;33m)\u001b[0m\u001b[1;33m:\u001b[0m\u001b[1;33m\u001b[0m\u001b[1;33m\u001b[0m\u001b[0m\n\u001b[0;32m    421\u001b[0m             \u001b[0mkwargs\u001b[0m\u001b[1;33m[\u001b[0m\u001b[0mk\u001b[0m\u001b[1;33m]\u001b[0m \u001b[1;33m=\u001b[0m \u001b[0marg\u001b[0m\u001b[1;33m\u001b[0m\u001b[1;33m\u001b[0m\u001b[0m\n\u001b[1;32m--> 422\u001b[1;33m         \u001b[1;32mreturn\u001b[0m \u001b[0mf\u001b[0m\u001b[1;33m(\u001b[0m\u001b[1;33m**\u001b[0m\u001b[0mkwargs\u001b[0m\u001b[1;33m)\u001b[0m\u001b[1;33m\u001b[0m\u001b[1;33m\u001b[0m\u001b[0m\n\u001b[0m\u001b[0;32m    423\u001b[0m \u001b[1;33m\u001b[0m\u001b[0m\n\u001b[0;32m    424\u001b[0m     \u001b[1;32mreturn\u001b[0m \u001b[0minner_f\u001b[0m\u001b[1;33m\u001b[0m\u001b[1;33m\u001b[0m\u001b[0m\n",
      "\u001b[1;32m~\\anaconda3\\envs\\predsales\\lib\\site-packages\\xgboost\\sklearn.py\u001b[0m in \u001b[0;36mfit\u001b[1;34m(self, X, y, sample_weight, base_margin, eval_set, eval_metric, early_stopping_rounds, verbose, xgb_model, sample_weight_eval_set, feature_weights, callbacks)\u001b[0m\n\u001b[0;32m    595\u001b[0m                 \u001b[0mparams\u001b[0m\u001b[1;33m.\u001b[0m\u001b[0mupdate\u001b[0m\u001b[1;33m(\u001b[0m\u001b[1;33m{\u001b[0m\u001b[1;34m'eval_metric'\u001b[0m\u001b[1;33m:\u001b[0m \u001b[0meval_metric\u001b[0m\u001b[1;33m}\u001b[0m\u001b[1;33m)\u001b[0m\u001b[1;33m\u001b[0m\u001b[1;33m\u001b[0m\u001b[0m\n\u001b[0;32m    596\u001b[0m \u001b[1;33m\u001b[0m\u001b[0m\n\u001b[1;32m--> 597\u001b[1;33m         self._Booster = train(params, train_dmatrix,\n\u001b[0m\u001b[0;32m    598\u001b[0m                               \u001b[0mself\u001b[0m\u001b[1;33m.\u001b[0m\u001b[0mget_num_boosting_rounds\u001b[0m\u001b[1;33m(\u001b[0m\u001b[1;33m)\u001b[0m\u001b[1;33m,\u001b[0m \u001b[0mevals\u001b[0m\u001b[1;33m=\u001b[0m\u001b[0mevals\u001b[0m\u001b[1;33m,\u001b[0m\u001b[1;33m\u001b[0m\u001b[1;33m\u001b[0m\u001b[0m\n\u001b[0;32m    599\u001b[0m                               \u001b[0mearly_stopping_rounds\u001b[0m\u001b[1;33m=\u001b[0m\u001b[0mearly_stopping_rounds\u001b[0m\u001b[1;33m,\u001b[0m\u001b[1;33m\u001b[0m\u001b[1;33m\u001b[0m\u001b[0m\n",
      "\u001b[1;32m~\\anaconda3\\envs\\predsales\\lib\\site-packages\\xgboost\\training.py\u001b[0m in \u001b[0;36mtrain\u001b[1;34m(params, dtrain, num_boost_round, evals, obj, feval, maximize, early_stopping_rounds, evals_result, verbose_eval, xgb_model, callbacks)\u001b[0m\n\u001b[0;32m    225\u001b[0m     \u001b[0mBooster\u001b[0m \u001b[1;33m:\u001b[0m \u001b[0ma\u001b[0m \u001b[0mtrained\u001b[0m \u001b[0mbooster\u001b[0m \u001b[0mmodel\u001b[0m\u001b[1;33m\u001b[0m\u001b[1;33m\u001b[0m\u001b[0m\n\u001b[0;32m    226\u001b[0m     \"\"\"\n\u001b[1;32m--> 227\u001b[1;33m     bst = _train_internal(params, dtrain,\n\u001b[0m\u001b[0;32m    228\u001b[0m                           \u001b[0mnum_boost_round\u001b[0m\u001b[1;33m=\u001b[0m\u001b[0mnum_boost_round\u001b[0m\u001b[1;33m,\u001b[0m\u001b[1;33m\u001b[0m\u001b[1;33m\u001b[0m\u001b[0m\n\u001b[0;32m    229\u001b[0m                           \u001b[0mevals\u001b[0m\u001b[1;33m=\u001b[0m\u001b[0mevals\u001b[0m\u001b[1;33m,\u001b[0m\u001b[1;33m\u001b[0m\u001b[1;33m\u001b[0m\u001b[0m\n",
      "\u001b[1;32m~\\anaconda3\\envs\\predsales\\lib\\site-packages\\xgboost\\training.py\u001b[0m in \u001b[0;36m_train_internal\u001b[1;34m(params, dtrain, num_boost_round, evals, obj, feval, xgb_model, callbacks, evals_result, maximize, verbose_eval, early_stopping_rounds)\u001b[0m\n\u001b[0;32m    100\u001b[0m         \u001b[1;31m# Skip the first update if it is a recovery step.\u001b[0m\u001b[1;33m\u001b[0m\u001b[1;33m\u001b[0m\u001b[1;33m\u001b[0m\u001b[0m\n\u001b[0;32m    101\u001b[0m         \u001b[1;32mif\u001b[0m \u001b[0mversion\u001b[0m \u001b[1;33m%\u001b[0m \u001b[1;36m2\u001b[0m \u001b[1;33m==\u001b[0m \u001b[1;36m0\u001b[0m\u001b[1;33m:\u001b[0m\u001b[1;33m\u001b[0m\u001b[1;33m\u001b[0m\u001b[0m\n\u001b[1;32m--> 102\u001b[1;33m             \u001b[0mbst\u001b[0m\u001b[1;33m.\u001b[0m\u001b[0mupdate\u001b[0m\u001b[1;33m(\u001b[0m\u001b[0mdtrain\u001b[0m\u001b[1;33m,\u001b[0m \u001b[0mi\u001b[0m\u001b[1;33m,\u001b[0m \u001b[0mobj\u001b[0m\u001b[1;33m)\u001b[0m\u001b[1;33m\u001b[0m\u001b[1;33m\u001b[0m\u001b[0m\n\u001b[0m\u001b[0;32m    103\u001b[0m             \u001b[0mbst\u001b[0m\u001b[1;33m.\u001b[0m\u001b[0msave_rabit_checkpoint\u001b[0m\u001b[1;33m(\u001b[0m\u001b[1;33m)\u001b[0m\u001b[1;33m\u001b[0m\u001b[1;33m\u001b[0m\u001b[0m\n\u001b[0;32m    104\u001b[0m             \u001b[0mversion\u001b[0m \u001b[1;33m+=\u001b[0m \u001b[1;36m1\u001b[0m\u001b[1;33m\u001b[0m\u001b[1;33m\u001b[0m\u001b[0m\n",
      "\u001b[1;32m~\\anaconda3\\envs\\predsales\\lib\\site-packages\\xgboost\\core.py\u001b[0m in \u001b[0;36mupdate\u001b[1;34m(self, dtrain, iteration, fobj)\u001b[0m\n\u001b[0;32m   1278\u001b[0m \u001b[1;33m\u001b[0m\u001b[0m\n\u001b[0;32m   1279\u001b[0m         \u001b[1;32mif\u001b[0m \u001b[0mfobj\u001b[0m \u001b[1;32mis\u001b[0m \u001b[1;32mNone\u001b[0m\u001b[1;33m:\u001b[0m\u001b[1;33m\u001b[0m\u001b[1;33m\u001b[0m\u001b[0m\n\u001b[1;32m-> 1280\u001b[1;33m             _check_call(_LIB.XGBoosterUpdateOneIter(self.handle,\n\u001b[0m\u001b[0;32m   1281\u001b[0m                                                     \u001b[0mctypes\u001b[0m\u001b[1;33m.\u001b[0m\u001b[0mc_int\u001b[0m\u001b[1;33m(\u001b[0m\u001b[0miteration\u001b[0m\u001b[1;33m)\u001b[0m\u001b[1;33m,\u001b[0m\u001b[1;33m\u001b[0m\u001b[1;33m\u001b[0m\u001b[0m\n\u001b[0;32m   1282\u001b[0m                                                     dtrain.handle))\n",
      "\u001b[1;31mKeyboardInterrupt\u001b[0m: "
     ]
    }
   ],
   "source": [
    "import xgboost as xgb\n",
    "X_train, y_train, X_test, y_test = train_test_x_y(\n",
    "    matrix, test_month=33, keep_from_month=2,\n",
    ")\n",
    "xgbooster = xgb.XGBRegressor()\n",
    "xgbooster.fit(X_train.values, y_train.values, early_stopping_rounds=10, eval_metric=\"rmse\",\n",
    "        eval_set=[(X_test.values, y_test.values)])"
   ]
  },
  {
   "cell_type": "code",
   "execution_count": 20,
   "id": "mature-modern",
   "metadata": {},
   "outputs": [
    {
     "data": {
      "application/vnd.jupyter.widget-view+json": {
       "model_id": "",
       "version_major": 2,
       "version_minor": 0
      },
      "text/plain": [
       "HBox(children=(HTML(value=''), FloatProgress(value=0.0, max=34.0), HTML(value='')))"
      ]
     },
     "metadata": {},
     "output_type": "display_data"
    },
    {
     "name": "stdout",
     "output_type": "stream",
     "text": [
      "\n"
     ]
    }
   ],
   "source": [
    "aggs = {\"item_cnt_month\":\"mean\"}\n",
    "newname = 'item_name_group_item_age_ME'\n",
    "features = []\n",
    "for dbn in tqdm(range(1, 35)):\n",
    "    ids = matrix.query(f\"date_block_num=={dbn}\")['item_id'].unique()\n",
    "    f_temp = (\n",
    "        matrix.loc[(matrix.date_block_num<dbn) & (matrix.item_id.isin(ids)), :]\n",
    "        .groupby([\"item_name_group\", \"item_age\"])\n",
    "        .agg(aggs)\n",
    "        .rename(columns={'item_cnt_month':newname})\n",
    "    )\n",
    "    f_temp[\"date_block_num\"] = dbn\n",
    "    features.append(f_temp)\n",
    "features = pd.concat(features).reset_index()\n",
    "\n",
    "features = fu.reduce_mem_usage(features)\n",
    "\n",
    "matrix = matrix.merge(features, on=[\"date_block_num\", \"item_name_group\", \"item_age\"], how=\"left\")"
   ]
  },
  {
   "cell_type": "code",
   "execution_count": 23,
   "id": "roman-iceland",
   "metadata": {},
   "outputs": [
    {
     "name": "stdout",
     "output_type": "stream",
     "text": [
      "Creating feature \"item_name_group_item_age_item_cnt_month_mean_expanding_mean\"\n"
     ]
    }
   ],
   "source": [
    "matrix = add_rolling_ME(matrix, [\"item_name_group\", \"item_age\"], aggregation=\"mean\", rolling_aggregation=\"mean\", kind=\"expanding\")"
   ]
  }
 ],
 "metadata": {
  "kernelspec": {
   "display_name": "Python 3",
   "language": "python",
   "name": "python3"
  },
  "language_info": {
   "codemirror_mode": {
    "name": "ipython",
    "version": 3
   },
   "file_extension": ".py",
   "mimetype": "text/x-python",
   "name": "python",
   "nbconvert_exporter": "python",
   "pygments_lexer": "ipython3",
   "version": "3.8.5"
  }
 },
 "nbformat": 4,
 "nbformat_minor": 5
}
