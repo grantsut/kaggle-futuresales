{
 "cells": [
  {
   "cell_type": "markdown",
   "id": "visible-enough",
   "metadata": {},
   "source": [
    "Do some basic ensembling here"
   ]
  },
  {
   "cell_type": "code",
   "execution_count": 45,
   "id": "pressed-translator",
   "metadata": {},
   "outputs": [],
   "source": [
    "import gc\n",
    "import numpy as np\n",
    "import pandas as pd\n",
    "# import seaborn as sns\n",
    "import matplotlib.pyplot as plt\n",
    "import futuresalesutility as fu"
   ]
  },
  {
   "cell_type": "code",
   "execution_count": 46,
   "id": "boring-coverage",
   "metadata": {},
   "outputs": [],
   "source": [
    "matrix = pd.read_pickle(\"matrix_reduced.pkl\")\n",
    "items = pd.read_csv(\"../input/competitive-data-science-predict-future-sales/items.csv\")"
   ]
  },
  {
   "cell_type": "code",
   "execution_count": 48,
   "id": "atomic-variable",
   "metadata": {},
   "outputs": [],
   "source": [
    "unique_feats = ['name_group_cat_unique_month',\n",
    " 'name_group_new_unique_month',\n",
    " 'name_group_new_cat_unique_month',\n",
    " 'first_word_unique_month',\n",
    " 'first_word_cat_unique_month',\n",
    " 'first_word_new_unique_month',\n",
    " 'first_word_new_cat_unique_month',\n",
    " 'name_group_new_proportion_month',\n",
    " 'unique_items_cat',\n",
    " 'cat_items_proportion',\n",
    " 'new_items_month',\n",
    " 'item_category_id_new_items_cat_mean_rolling_mean_win_12',\n",
    " 'item_name_group_name_group_new_unique_month_mean_rolling_mean_win_12',\n",
    " 'new_items_cat_1_12_ratio']\n",
    "matrix = matrix.drop(columns=unique_feats)"
   ]
  },
  {
   "cell_type": "markdown",
   "id": "right-hollow",
   "metadata": {},
   "source": [
    "## Split train, validation, test sets from feature matrix"
   ]
  },
  {
   "cell_type": "code",
   "execution_count": 49,
   "id": "moral-frank",
   "metadata": {},
   "outputs": [],
   "source": [
    "def train_test_x_y(matrix, test_month, keep_from_month=3):\n",
    "    def split_train_test(matrix, test_month=33):\n",
    "        # Split the matrix into train and test sets.\n",
    "        test_month = fu.list_if_not(test_month, int)\n",
    "        test = matrix.loc[matrix.date_block_num.isin(test_month), :]\n",
    "        train = matrix.loc[matrix.date_block_num < min(test_month), :]\n",
    "        return train, test\n",
    "\n",
    "    def xysplit(matrix):\n",
    "        # Split a train and test set into into x and y sets, with item_cnt as the target y variable\n",
    "        y = matrix.item_cnt_month\n",
    "        X = matrix.drop(columns=[\"item_cnt_month\"])\n",
    "        return (X, y)\n",
    "\n",
    "    matrix = matrix.drop(\n",
    "        columns=[\"item_revenue_month\", \"item_price\", \"item_cnt_month_original\", \"item_cnt_day_avg\",], errors=\"ignore\",\n",
    "    )\n",
    "\n",
    "    train, test = split_train_test(matrix, test_month)\n",
    "    train = train[train.date_block_num >= keep_from_month]\n",
    "    X_train, y_train = xysplit(train)\n",
    "    X_test, y_test = xysplit(test)\n",
    "    return (X_train, y_train, X_test, y_test)"
   ]
  },
  {
   "cell_type": "code",
   "execution_count": 50,
   "id": "august-january",
   "metadata": {},
   "outputs": [],
   "source": [
    "import warnings\n",
    "\n",
    "warnings.filterwarnings(\"ignore\", module=\"lightgbm\")\n",
    "\n",
    "import lightgbm as lgbm\n",
    "\n",
    "def fit_booster(\n",
    "    X_train,\n",
    "    y_train,\n",
    "    X_test=None,\n",
    "    y_test=None,\n",
    "    params=None,\n",
    "    categoricals=[],\n",
    "    dropcols=[],\n",
    "    early_stopping_rounds=None,\n",
    "):\n",
    "    # Regular booster fitting function\n",
    "    if params is None:\n",
    "        params = {\"learning_rate\": 0.1, \"subsample_for_bin\": 300000, \"n_estimators\": 5000}\n",
    "\n",
    "    if X_test is not None:\n",
    "        eval_set = [(X_train, y_train), (X_test, y_test)]\n",
    "    else:\n",
    "        eval_set = [(X_train, y_train)]\n",
    "\n",
    "    booster = lgbm.LGBMRegressor(**params)\n",
    "    categoricals = [c for c in categoricals if c in X_train.columns]\n",
    "    booster.fit(\n",
    "        X_train,\n",
    "        y_train,\n",
    "        eval_set=eval_set,\n",
    "        eval_metric=[\"rmse\"],\n",
    "        verbose=50,\n",
    "        categorical_feature=categoricals,\n",
    "        early_stopping_rounds=early_stopping_rounds,\n",
    "    )\n",
    "\n",
    "    return booster"
   ]
  },
  {
   "cell_type": "code",
   "execution_count": 51,
   "id": "matched-favorite",
   "metadata": {},
   "outputs": [],
   "source": [
    "if (matrix == float(\"inf\")).any().any():\n",
    "    raise ValueError(\"Dataframe contains inf entries! This can crash some models!\")"
   ]
  },
  {
   "cell_type": "code",
   "execution_count": 52,
   "id": "municipal-confirmation",
   "metadata": {},
   "outputs": [],
   "source": [
    "best_params = [{'num_leaves': 966,\n",
    "  'cat_smooth': 45.01680827234465,\n",
    "  'min_child_samples': 27,\n",
    "  'min_child_weight': 0.021144950289224463,\n",
    "  'max_bin': 214,\n",
    "  'n_estimators': 500},\n",
    "#  {'num_leaves': 940,\n",
    "#   'cat_smooth': 43.418286701105615,\n",
    "#   'min_child_samples': 29,\n",
    "#   'min_child_weight': 0.003944267312494195,\n",
    "#   'max_bin': 133,\n",
    "#   'n_estimators': 572},\n",
    "#  {'num_leaves': 971,\n",
    "#   'cat_smooth': 40.103611531065525,\n",
    "#   'min_child_samples': 30,\n",
    "#   'min_child_weight': 0.03951287458923346,\n",
    "#   'max_bin': 212,\n",
    "#   'n_estimators': 828},\n",
    "#  {'num_leaves': 965,\n",
    "#   'cat_smooth': 40.05144976454027,\n",
    "#   'min_child_samples': 27,\n",
    "#   'min_child_weight': 0.029220951478909872,\n",
    "#   'max_bin': 211,\n",
    "#   'n_estimators': 870},\n",
    "#  {'num_leaves': 961,\n",
    "#   'cat_smooth': 40.013529776221134,\n",
    "#   'min_child_samples': 29,\n",
    "#   'min_child_weight': 0.026526521644599493,\n",
    "#   'max_bin': 210,\n",
    "#   'n_estimators': 897}\n",
    "]"
   ]
  },
  {
   "cell_type": "markdown",
   "id": "becoming-chancellor",
   "metadata": {},
   "source": [
    "Create predictions as the mean of booster predictions with different parameters"
   ]
  },
  {
   "cell_type": "code",
   "execution_count": 57,
   "id": "breeding-portable",
   "metadata": {},
   "outputs": [],
   "source": [
    "best_params =     [{'num_leaves': 1023,\n",
    "    'min_data_in_leaf':10,\n",
    "    'feature_fraction':0.7,\n",
    "    'learning_rate': 0.01,\n",
    "    'num_rounds': 1000,\n",
    "    'early_stopping_rounds': 30,\n",
    "        }]"
   ]
  },
  {
   "cell_type": "code",
   "execution_count": 58,
   "id": "southeast-album",
   "metadata": {},
   "outputs": [
    {
     "name": "stdout",
     "output_type": "stream",
     "text": [
      "Training until validation scores don't improve for 30 rounds\n",
      "[50]\ttraining's rmse: 0.968386\ttraining's l2: 0.937772\tvalid_1's rmse: 0.898216\tvalid_1's l2: 0.806792\n",
      "[100]\ttraining's rmse: 0.830554\ttraining's l2: 0.68982\tvalid_1's rmse: 0.816243\tvalid_1's l2: 0.666253\n",
      "[150]\ttraining's rmse: 0.758335\ttraining's l2: 0.575072\tvalid_1's rmse: 0.780877\tvalid_1's l2: 0.609769\n",
      "[200]\ttraining's rmse: 0.717255\ttraining's l2: 0.514455\tvalid_1's rmse: 0.765201\tvalid_1's l2: 0.585533\n",
      "[250]\ttraining's rmse: 0.690625\ttraining's l2: 0.476962\tvalid_1's rmse: 0.758236\tvalid_1's l2: 0.574922\n",
      "[300]\ttraining's rmse: 0.67156\ttraining's l2: 0.450993\tvalid_1's rmse: 0.75455\tvalid_1's l2: 0.569346\n",
      "[350]\ttraining's rmse: 0.656569\ttraining's l2: 0.431082\tvalid_1's rmse: 0.753019\tvalid_1's l2: 0.567038\n",
      "[400]\ttraining's rmse: 0.644466\ttraining's l2: 0.415337\tvalid_1's rmse: 0.751246\tvalid_1's l2: 0.564371\n",
      "[450]\ttraining's rmse: 0.634133\ttraining's l2: 0.402124\tvalid_1's rmse: 0.750622\tvalid_1's l2: 0.563433\n",
      "[500]\ttraining's rmse: 0.625014\ttraining's l2: 0.390642\tvalid_1's rmse: 0.7495\tvalid_1's l2: 0.56175\n",
      "[550]\ttraining's rmse: 0.617145\ttraining's l2: 0.380868\tvalid_1's rmse: 0.749215\tvalid_1's l2: 0.561323\n",
      "[600]\ttraining's rmse: 0.610191\ttraining's l2: 0.372334\tvalid_1's rmse: 0.748934\tvalid_1's l2: 0.560902\n",
      "[650]\ttraining's rmse: 0.603716\ttraining's l2: 0.364472\tvalid_1's rmse: 0.748671\tvalid_1's l2: 0.560508\n",
      "Early stopping, best iteration is:\n",
      "[645]\ttraining's rmse: 0.604332\ttraining's l2: 0.365218\tvalid_1's rmse: 0.748652\tvalid_1's l2: 0.56048\n"
     ]
    }
   ],
   "source": [
    "X_train, y_train, X_test, y_test = train_test_x_y(matrix, [33], keep_from_month=2)\n",
    "boosterstore = []\n",
    "for i, params in enumerate(best_params):\n",
    "    params.update(\n",
    "        {\n",
    "            \"n_jobs\": 11,\n",
    "#             \"learning_rate\": 0.01,\n",
    "#             \"subsample_for_bin\": 300000,\n",
    "#             \"min_data_in_bin\": 7,\n",
    "#             \"colsample_bytree\": 0.8,\n",
    "#             \"subsample\": 0.6,\n",
    "#             \"subsample_freq\": 5,\n",
    "#             'n_estimators': 500\n",
    "        }\n",
    "    )\n",
    "    booster = fit_booster(\n",
    "        X_train, y_train, X_test, y_test,\n",
    "        params=params,\n",
    "        categoricals=[\"item_category_id\", \"month\"],\n",
    "        dropcols=[\"shop_id\", \"digital\"],\n",
    "        early_stopping_rounds=10,\n",
    "    )\n",
    "    boosterstore.append(booster)"
   ]
  },
  {
   "cell_type": "code",
   "execution_count": 39,
   "id": "second-investor",
   "metadata": {},
   "outputs": [],
   "source": [
    "def mean_prediction(boosterstore, X_test):\n",
    "    predframe = X_test.loc[:, [\"shop_id\", \"item_id\", \"digital\"]]\n",
    "    for i, booster in enumerate(boosterstore):\n",
    "        predframe[\"prediction\"] = booster.predict(X_test.drop(columns=[\"prediction\", \"shop_id\", \"digital\"], errors=\"ignore\"))\n",
    "        predframe[\"prediction\"] = predframe[\"prediction\"].clip(0, 20)\n",
    "        predframe.loc[(predframe.shop_id == 55) & (predframe.digital != 1), \"prediction\"] = 0\n",
    "        predframe.loc[(predframe.shop_id != 55) & (predframe.digital == 1), \"prediction\"] = 0\n",
    "        predframe['prediction'] = predframe[\"prediction\"]\n",
    "        predframe = predframe.rename(columns={\"prediction\": i})\n",
    "    predframe[\"prediction\"] = predframe.drop(columns=[\"shop_id\", \"item_id\", \"digital\"]).mean(axis=1)\n",
    "    return predframe[\"prediction\"]"
   ]
  },
  {
   "cell_type": "code",
   "execution_count": null,
   "id": "activated-shark",
   "metadata": {},
   "outputs": [],
   "source": [
    "X_train, y_train, X_test, y_test = train_test_x_y(matrix.drop(columns=[\"shop_id\", \"digital\"]), 34, keep_from_month=2)\n",
    "X_test['prediction'] = mean_prediction(boosterstore, X_test)"
   ]
  },
  {
   "cell_type": "code",
   "execution_count": 87,
   "id": "empirical-blink",
   "metadata": {},
   "outputs": [],
   "source": [
    "X_test['item_cnt_month'] = y_test\n",
    "X_test[['item_cnt_month', 'prediction']]"
   ]
  },
  {
   "cell_type": "code",
   "execution_count": 165,
   "id": "crazy-pantyhose",
   "metadata": {},
   "outputs": [
    {
     "name": "stdout",
     "output_type": "stream",
     "text": [
      "0.9026308520020633\n"
     ]
    }
   ],
   "source": [
    "from sklearn.metrics import mean_squared_error\n",
    "rmse = mean_squared_error(y_test, X_test['prediction'], squared=False)\n",
    "print(rmse)"
   ]
  },
  {
   "cell_type": "code",
   "execution_count": null,
   "id": "finished-soviet",
   "metadata": {},
   "outputs": [],
   "source": [
    "_ = lgbm.plot_importance(booster, figsize=(10,70), height=0.5, importance_type=\"gain\", ignore_zero=False)"
   ]
  },
  {
   "cell_type": "markdown",
   "id": "forward-wallace",
   "metadata": {},
   "source": [
    "Create predictions as the mean of booster predictions with different parameters"
   ]
  },
  {
   "cell_type": "markdown",
   "id": "boring-length",
   "metadata": {},
   "source": [
    "## Data cleaning"
   ]
  },
  {
   "cell_type": "code",
   "execution_count": null,
   "id": "differential-communications",
   "metadata": {},
   "outputs": [],
   "source": [
    "booster = fit_booster(matrix, params=None, test_run = False, categoricals=[], dropcols=[], new_item_weight_factor=1)"
   ]
  },
  {
   "cell_type": "code",
   "execution_count": null,
   "id": "governing-policy",
   "metadata": {},
   "outputs": [],
   "source": [
    "# Assume that data to be predicted from is in X_test\n",
    "X_test['item_cnt_month'] = booster.predict(X_test)\n",
    "# Clip the values as with the true values\n",
    "X_test['item_cnt_month'] = X_test['item_cnt_month'].clip(0,20)"
   ]
  },
  {
   "cell_type": "markdown",
   "id": "better-potato",
   "metadata": {},
   "source": [
    "Sales of digital items should be zero for shops other than 55, and vice-versa, force set these values to zero if not"
   ]
  },
  {
   "cell_type": "code",
   "execution_count": 169,
   "id": "velvet-geneva",
   "metadata": {},
   "outputs": [
    {
     "name": "stdout",
     "output_type": "stream",
     "text": [
      "Mean predicted sales of digital items in non-digital shops is 0.0\n",
      "Mean predicted sales of non-digital items in digital shop 55 is 0.0\n"
     ]
    }
   ],
   "source": [
    "print(f\"Mean predicted sales of digital items in non-digital shops is {X_test[(X_test.shop_id!=55) & (X_test.digital==1)].prediction.mean()}\")\n",
    "print(f\"Mean predicted sales of non-digital items in digital shop 55 is {X_test[(X_test.shop_id==55) & (X_test.digital==0)].prediction.mean()}\")"
   ]
  },
  {
   "cell_type": "code",
   "execution_count": null,
   "id": "christian-associate",
   "metadata": {},
   "outputs": [],
   "source": [
    "X_test.loc[(X_test.shop_id==55) & (X_test.digital!=1), 'item_cnt_day'] = 0\n",
    "X_test.loc[(X_test.shop_id!=55) & (X_test.digital==1), 'item_cnt_day'] = 0"
   ]
  },
  {
   "cell_type": "markdown",
   "id": "editorial-stockholm",
   "metadata": {},
   "source": [
    "Optional: replace the predictions for shop 36 (if any) with the predictions for shop 37 from the same city."
   ]
  },
  {
   "cell_type": "code",
   "execution_count": 149,
   "id": "working-fleet",
   "metadata": {},
   "outputs": [],
   "source": [
    "shop37 = X_test.loc[X_test.shop_id==37,:]\n",
    "X_test = X_test.loc[X_test.shop_id!=36,:]\n",
    "shop37.loc[:,'shop_id'] = 36\n",
    "X_test = pd.concat([X_test,shop37])"
   ]
  },
  {
   "cell_type": "code",
   "execution_count": 170,
   "id": "outdoor-sellers",
   "metadata": {},
   "outputs": [],
   "source": [
    "# Merge the predictions with the provided template\n",
    "test_orig = pd.read_csv(\"../input/competitive-data-science-predict-future-sales/test.csv\")\n",
    "test = test_orig.merge(X_test[['shop_id','item_id','prediction']], on=['shop_id','item_id'], how='inner', copy=True)\n",
    "test = test.rename(columns={'prediction':'item_cnt_month'})\n",
    "# Check that the indices math the original\n",
    "assert test_orig.equals(test[['ID','shop_id','item_id']])\n",
    "test[['ID','item_cnt_month']].to_csv('submission.csv', index=False)"
   ]
  },
  {
   "cell_type": "code",
   "execution_count": 142,
   "id": "clear-eating",
   "metadata": {},
   "outputs": [
    {
     "data": {
      "text/plain": [
       "False"
      ]
     },
     "execution_count": 142,
     "metadata": {},
     "output_type": "execute_result"
    }
   ],
   "source": [
    "test['prediction'].isna().any()"
   ]
  },
  {
   "cell_type": "code",
   "execution_count": null,
   "id": "coordinate-receipt",
   "metadata": {},
   "outputs": [],
   "source": []
  }
 ],
 "metadata": {
  "kernelspec": {
   "display_name": "Python 3",
   "language": "python",
   "name": "python3"
  },
  "language_info": {
   "codemirror_mode": {
    "name": "ipython",
    "version": 3
   },
   "file_extension": ".py",
   "mimetype": "text/x-python",
   "name": "python",
   "nbconvert_exporter": "python",
   "pygments_lexer": "ipython3",
   "version": "3.8.5"
  }
 },
 "nbformat": 4,
 "nbformat_minor": 5
}
