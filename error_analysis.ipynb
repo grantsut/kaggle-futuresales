{
 "cells": [
  {
   "cell_type": "code",
   "execution_count": null,
   "id": "humanitarian-rally",
   "metadata": {},
   "outputs": [],
   "source": [
    "import gc\n",
    "import numpy as np\n",
    "import pandas as pd\n",
    "from sklearn.metrics import mean_squared_error\n",
    "# import seaborn as sns\n",
    "# from tqdm.notebook import tqdm\n",
    "import matplotlib.pyplot as plt\n",
    "import futuresalesutility as fu"
   ]
  },
  {
   "cell_type": "code",
   "execution_count": null,
   "id": "working-conclusion",
   "metadata": {},
   "outputs": [],
   "source": [
    "m1 = pd.read_csv('valid_my_stuff.csv.gz')\n",
    "m2 = pd.read_csv('valid_extra_features.csv.gz')\n",
    "items = pd.read_csv(\"../input/competitive-data-science-predict-future-sales/items.csv\")\n",
    "m1 = m1.merge(items[['item_id', 'item_name']], on='item_id', how='left')\n",
    "m2 = m2.merge(items[['item_id', 'item_name']], on='item_id', how='left')"
   ]
  },
  {
   "cell_type": "code",
   "execution_count": null,
   "id": "convinced-ordinary",
   "metadata": {},
   "outputs": [],
   "source": [
    "train = pd.read_csv(\"../input/competitive-data-science-predict-future-sales/sales_train.csv\")\n",
    "train[\"date\"] = pd.to_datetime(train[\"date\"], format=\"%d.%m.%Y\")"
   ]
  },
  {
   "cell_type": "code",
   "execution_count": null,
   "id": "mental-washer",
   "metadata": {},
   "outputs": [],
   "source": [
    "m1['err'] = np.abs(m1.item_cnt_month - m1.preds.clip(0,20))\n",
    "m2['err'] = np.abs(m2.item_cnt_month - m2.preds.clip(0,20))\n",
    "m1['errdiff'] = m1['err'] - m2['err']"
   ]
  },
  {
   "cell_type": "code",
   "execution_count": null,
   "id": "identical-spouse",
   "metadata": {},
   "outputs": [],
   "source": [
    "grouper = ['new_item']\n",
    "basic = pd.DataFrame(m1.groupby(grouper).err.mean().rename('basic'))\n",
    "extra = m2.groupby(grouper).err.mean().rename('extra')\n",
    "\n",
    "basic = basic.merge(extra, left_index=True, right_index=True)\n",
    "basic = basic.sort_values('basic', ascending=True)\n",
    "ax = basic.plot.barh(figsize=(10,10))\n",
    "# _ = plt.title('General categories in train and test sets')\n",
    "# _ = plt.xlabel('proportion')"
   ]
  },
  {
   "cell_type": "code",
   "execution_count": null,
   "id": "musical-rally",
   "metadata": {},
   "outputs": [],
   "source": [
    "m1[['item_id', 'item_name_group', 'item_name', 'item_category_id', 'item_cnt_month', 'preds', 'err', 'errdiff']].nlargest(50, 'errdiff')"
   ]
  },
  {
   "cell_type": "code",
   "execution_count": null,
   "id": "authorized-bunny",
   "metadata": {},
   "outputs": [],
   "source": [
    "m2[['item_id', 'item_name', 'item_category_id', 'item_cnt_month', 'preds', 'err']].nlargest(30, 'err')"
   ]
  },
  {
   "cell_type": "code",
   "execution_count": null,
   "id": "stuck-programmer",
   "metadata": {},
   "outputs": [],
   "source": [
    "import shap\n",
    "temp = X_test.drop(columns='lgb_pred').sample(10000)\n",
    "explainer = shap.TreeExplainer(lgb_model)\n",
    "shap_values = explainer.shap_values(temp)\n",
    "shap.summary_plot(shap_values, temp, max_display=30)"
   ]
  }
 ],
 "metadata": {
  "kernelspec": {
   "display_name": "Python 3",
   "language": "python",
   "name": "python3"
  },
  "language_info": {
   "codemirror_mode": {
    "name": "ipython",
    "version": 3
   },
   "file_extension": ".py",
   "mimetype": "text/x-python",
   "name": "python",
   "nbconvert_exporter": "python",
   "pygments_lexer": "ipython3",
   "version": "3.8.5"
  }
 },
 "nbformat": 4,
 "nbformat_minor": 5
}
